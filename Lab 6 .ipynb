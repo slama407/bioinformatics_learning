{
 "cells": [
  {
   "cell_type": "code",
   "execution_count": 24,
   "id": "medical-penetration",
   "metadata": {},
   "outputs": [
    {
     "name": "stdout",
     "output_type": "stream",
     "text": [
      "70\n"
     ]
    }
   ],
   "source": [
    "import matplotlib.pyplot as plt\n",
    "with open(\"november_rain.csv\", \"r\") as nov_rainfile:\n",
    "    data_list = [one_line.split(\",\") for one_line in nov_rainfile]\n",
    "    data_dict = {int(yearmonth[:4]): float(value) for yearmonth,value in data_list} \n",
    "    rainfall_values = list(data_dict.values())\n",
    "    print(len(rainfall_values))"
   ]
  },
  {
   "cell_type": "code",
   "execution_count": 23,
   "id": "suited-receipt",
   "metadata": {},
   "outputs": [
    {
     "data": {
      "text/plain": [
       "70"
      ]
     },
     "execution_count": 23,
     "metadata": {},
     "output_type": "execute_result"
    }
   ],
   "source": [
    "rain_year = list(data_dict.keys())\n",
    "len(rain_year)"
   ]
  },
  {
   "cell_type": "code",
   "execution_count": 36,
   "id": "premier-circuit",
   "metadata": {},
   "outputs": [
    {
     "data": {
      "image/png": "[encoded data removed]",
      "text/plain": [
       "<Figure size 432x288 with 1 Axes>"
      ]
     },
     "metadata": {
      "needs_background": "light"
     },
     "output_type": "display_data"
    }
   ],
   "source": [
    "import numpy as np\n",
    "x = np.array(rain_year)\n",
    "y = np.array(rainfall_values)\n",
    "plt.scatter(x,y)\n",
    "plt.axhline(mean_rainfall, color = \"red\", linestyle = \"dotted\")\n",
    "plt.title(\"Average monthly rainfall value vs. year\")\n",
    "plt.xlabel(\"Years\")\n",
    "plt.ylabel(\"Rainfall in inches\")\n",
    "plt.show()"
   ]
  },
  {
   "cell_type": "code",
   "execution_count": 3,
   "id": "rotary-congress",
   "metadata": {},
   "outputs": [
    {
     "name": "stdout",
     "output_type": "stream",
     "text": [
      "{1951: 7.4, 1952: 1.72, 1953: 6.51, 1954: 4.67, 1955: 6.7, 1956: 1.2, 1957: 2.81, 1958: 7.87, 1959: 1.42, 1960: 12.02, 1961: 9.35, 1962: 6.34, 1963: 7.87, 1964: 10.7, 1965: 7.43, 1966: 9.1, 1967: 3.22, 1968: 7.02, 1969: 2.73, 1970: 8.23, 1971: 9.48, 1972: 3.76, 1973: 20.48, 1974: 6.42, 1975: 8.47, 1976: 1.33, 1977: 9.15, 1978: 6.61, 1979: 6.09, 1980: 8.66, 1981: 9.5, 1982: 7.07, 1983: 13.13, 1984: 18.67, 1985: 6.31, 1986: 11.05, 1987: 4.66, 1988: 14.27, 1989: 5.0, 1990: 7.59, 1991: 10.47, 1992: 6.54, 1993: 1.98, 1994: 9.58, 1995: 9.47, 1996: 12.06, 1997: 4.29, 1998: 11.35, 1999: 8.02, 2000: 1.61, 2001: 6.88, 2002: 4.72, 2003: 5.74, 2004: 2.22, 2005: 5.19, 2006: 14.28, 2007: 4.46, 2008: 3.97, 2009: 5.63, 2010: 5.91, 2011: 5.34, 2012: 7.63, 2013: 2.13, 2014: 5.28, 2015: 2.8, 2016: 4.3, 2017: 7.46, 2018: 3.46, 2019: 1.23, 2020: 5.47}\n"
     ]
    }
   ],
   "source": [
    "print(data_dict)"
   ]
  },
  {
   "cell_type": "code",
   "execution_count": 4,
   "id": "national-distinction",
   "metadata": {},
   "outputs": [
    {
     "data": {
      "text/plain": [
       "6.878285714285716"
      ]
     },
     "execution_count": 4,
     "metadata": {},
     "output_type": "execute_result"
    }
   ],
   "source": [
    "# part 2\n",
    "\n",
    "mean_rainfall = sum(rainfall_values)/len(rainfall_values)\n",
    "mean_rainfall"
   ]
  },
  {
   "cell_type": "code",
   "execution_count": 52,
   "id": "agreed-tracker",
   "metadata": {
    "scrolled": true
   },
   "outputs": [],
   "source": [
    "# Part 3a\n",
    "high_rain_year = [k for k, v in data_dict.items() if v >= (1.5*mean_rainfall)]"
   ]
  },
  {
   "cell_type": "code",
   "execution_count": 59,
   "id": "painful-fusion",
   "metadata": {},
   "outputs": [],
   "source": [
    "with open(\"out.txt\", \"w\") as newfile:\n",
    "    for k in high_rain_year:\n",
    "        v = data_dict[k]\n",
    "        percentage = round(((v - mean_rainfall)/mean_rainfall)*100,2)\n",
    "        newfile.write(f\"Year: {k}, Average Rainfall in Inches: {v}, Percentage Increase Over Mean: {percentage}%\\n\")"
   ]
  }
 ],
 "metadata": {
  "kernelspec": {
   "display_name": "Python 3 (ipykernel)",
   "language": "python",
   "name": "python3"
  },
  "language_info": {
   "codemirror_mode": {
    "name": "ipython",
    "version": 3
   },
   "file_extension": ".py",
   "mimetype": "text/x-python",
   "name": "python",
   "nbconvert_exporter": "python",
   "pygments_lexer": "ipython3",
   "version": "3.8.12"
  },
  "varInspector": {
   "cols": {
    "lenName": 16,
    "lenType": 16,
    "lenVar": 40
   },
   "kernels_config": {
    "python": {
     "delete_cmd_postfix": "",
     "delete_cmd_prefix": "del ",
     "library": "var_list.py",
     "varRefreshCmd": "print(var_dic_list())"
    },
    "r": {
     "delete_cmd_postfix": ") ",
     "delete_cmd_prefix": "rm(",
     "library": "var_list.r",
     "varRefreshCmd": "cat(var_dic_list()) "
    }
   },
   "types_to_exclude": [
    "module",
    "function",
    "builtin_function_or_method",
    "instance",
    "_Feature"
   ],
   "window_display": false
  }
 },
 "nbformat": 4,
 "nbformat_minor": 5
}
